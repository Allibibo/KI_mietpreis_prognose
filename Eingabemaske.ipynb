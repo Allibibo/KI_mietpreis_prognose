{
 "cells": [
  {
   "cell_type": "markdown",
   "metadata": {},
   "source": [
    "# Eingabemaske"
   ]
  },
  {
   "cell_type": "code",
   "execution_count": null,
   "metadata": {},
   "outputs": [
    {
     "name": "stdout",
     "output_type": "stream",
     "text": [
      "1/1 [==============================] - 0s 23ms/step\n"
     ]
    },
    {
     "data": {
      "application/vnd.jupyter.widget-view+json": {
       "model_id": "691500e6c4b44a71a473e9d65e97fe24",
       "version_major": 2,
       "version_minor": 0
      },
      "text/plain": [
       "Label(value='Prediction: 483.7€')"
      ]
     },
     "metadata": {},
     "output_type": "display_data"
    },
    {
     "data": {
      "text/html": [
       "<div style=\"width:100%;\"><div style=\"position:relative;width:100%;height:0;padding-bottom:60%;\"><span style=\"color:#565656\">Make this Notebook Trusted to load map: File -> Trust Notebook</span><iframe srcdoc=\"&lt;!DOCTYPE html&gt;\n",
       "&lt;html&gt;\n",
       "&lt;head&gt;\n",
       "    \n",
       "    &lt;meta http-equiv=&quot;content-type&quot; content=&quot;text/html; charset=UTF-8&quot; /&gt;\n",
       "    \n",
       "        &lt;script&gt;\n",
       "            L_NO_TOUCH = false;\n",
       "            L_DISABLE_3D = false;\n",
       "        &lt;/script&gt;\n",
       "    \n",
       "    &lt;style&gt;html, body {width: 100%;height: 100%;margin: 0;padding: 0;}&lt;/style&gt;\n",
       "    &lt;style&gt;#map {position:absolute;top:0;bottom:0;right:0;left:0;}&lt;/style&gt;\n",
       "    &lt;script src=&quot;https://cdn.jsdelivr.net/npm/leaflet@1.9.3/dist/leaflet.js&quot;&gt;&lt;/script&gt;\n",
       "    &lt;script src=&quot;https://code.jquery.com/jquery-1.12.4.min.js&quot;&gt;&lt;/script&gt;\n",
       "    &lt;script src=&quot;https://cdn.jsdelivr.net/npm/bootstrap@5.2.2/dist/js/bootstrap.bundle.min.js&quot;&gt;&lt;/script&gt;\n",
       "    &lt;script src=&quot;https://cdnjs.cloudflare.com/ajax/libs/Leaflet.awesome-markers/2.0.2/leaflet.awesome-markers.js&quot;&gt;&lt;/script&gt;\n",
       "    &lt;link rel=&quot;stylesheet&quot; href=&quot;https://cdn.jsdelivr.net/npm/leaflet@1.9.3/dist/leaflet.css&quot;/&gt;\n",
       "    &lt;link rel=&quot;stylesheet&quot; href=&quot;https://cdn.jsdelivr.net/npm/bootstrap@5.2.2/dist/css/bootstrap.min.css&quot;/&gt;\n",
       "    &lt;link rel=&quot;stylesheet&quot; href=&quot;https://netdna.bootstrapcdn.com/bootstrap/3.0.0/css/bootstrap.min.css&quot;/&gt;\n",
       "    &lt;link rel=&quot;stylesheet&quot; href=&quot;https://cdn.jsdelivr.net/npm/@fortawesome/fontawesome-free@6.2.0/css/all.min.css&quot;/&gt;\n",
       "    &lt;link rel=&quot;stylesheet&quot; href=&quot;https://cdnjs.cloudflare.com/ajax/libs/Leaflet.awesome-markers/2.0.2/leaflet.awesome-markers.css&quot;/&gt;\n",
       "    &lt;link rel=&quot;stylesheet&quot; href=&quot;https://cdn.jsdelivr.net/gh/python-visualization/folium/folium/templates/leaflet.awesome.rotate.min.css&quot;/&gt;\n",
       "    \n",
       "            &lt;meta name=&quot;viewport&quot; content=&quot;width=device-width,\n",
       "                initial-scale=1.0, maximum-scale=1.0, user-scalable=no&quot; /&gt;\n",
       "            &lt;style&gt;\n",
       "                #map_bac7e59957ff970a23681a4b7116cf1b {\n",
       "                    position: relative;\n",
       "                    width: 100.0%;\n",
       "                    height: 100.0%;\n",
       "                    left: 0.0%;\n",
       "                    top: 0.0%;\n",
       "                }\n",
       "                .leaflet-container { font-size: 1rem; }\n",
       "            &lt;/style&gt;\n",
       "        \n",
       "&lt;/head&gt;\n",
       "&lt;body&gt;\n",
       "    \n",
       "    \n",
       "            &lt;div class=&quot;folium-map&quot; id=&quot;map_bac7e59957ff970a23681a4b7116cf1b&quot; &gt;&lt;/div&gt;\n",
       "        \n",
       "&lt;/body&gt;\n",
       "&lt;script&gt;\n",
       "    \n",
       "    \n",
       "            var map_bac7e59957ff970a23681a4b7116cf1b = L.map(\n",
       "                &quot;map_bac7e59957ff970a23681a4b7116cf1b&quot;,\n",
       "                {\n",
       "                    center: [53.5784442, 9.7289394],\n",
       "                    crs: L.CRS.EPSG3857,\n",
       "                    zoom: 14,\n",
       "                    zoomControl: true,\n",
       "                    preferCanvas: false,\n",
       "                }\n",
       "            );\n",
       "\n",
       "            \n",
       "\n",
       "        \n",
       "    \n",
       "            var tile_layer_71585187d14f06a91562a09e06a90a94 = L.tileLayer(\n",
       "                &quot;https://{s}.tile.openstreetmap.org/{z}/{x}/{y}.png&quot;,\n",
       "                {&quot;attribution&quot;: &quot;Data by \\u0026copy; \\u003ca target=\\&quot;_blank\\&quot; href=\\&quot;http://openstreetmap.org\\&quot;\\u003eOpenStreetMap\\u003c/a\\u003e, under \\u003ca target=\\&quot;_blank\\&quot; href=\\&quot;http://www.openstreetmap.org/copyright\\&quot;\\u003eODbL\\u003c/a\\u003e.&quot;, &quot;detectRetina&quot;: false, &quot;maxNativeZoom&quot;: 18, &quot;maxZoom&quot;: 18, &quot;minZoom&quot;: 0, &quot;noWrap&quot;: false, &quot;opacity&quot;: 1, &quot;subdomains&quot;: &quot;abc&quot;, &quot;tms&quot;: false}\n",
       "            ).addTo(map_bac7e59957ff970a23681a4b7116cf1b);\n",
       "        \n",
       "    \n",
       "            var marker_2d002974fbfc5b616b4df456e4308274 = L.marker(\n",
       "                [53.5784442, 9.7289394],\n",
       "                {}\n",
       "            ).addTo(map_bac7e59957ff970a23681a4b7116cf1b);\n",
       "        \n",
       "    \n",
       "            var poly_line_860d1f7629a1fd824d764d1cb0566ca5 = L.polyline(\n",
       "                [[53.5784442, 9.7289394], [53.5786632, 9.7257996]],\n",
       "                {&quot;bubblingMouseEvents&quot;: true, &quot;color&quot;: &quot;blue&quot;, &quot;dashArray&quot;: null, &quot;dashOffset&quot;: null, &quot;fill&quot;: false, &quot;fillColor&quot;: &quot;blue&quot;, &quot;fillOpacity&quot;: 0.2, &quot;fillRule&quot;: &quot;evenodd&quot;, &quot;lineCap&quot;: &quot;round&quot;, &quot;lineJoin&quot;: &quot;round&quot;, &quot;noClip&quot;: false, &quot;opacity&quot;: 1, &quot;smoothFactor&quot;: 1.0, &quot;stroke&quot;: true, &quot;weight&quot;: 2.5}\n",
       "            ).addTo(map_bac7e59957ff970a23681a4b7116cf1b);\n",
       "        \n",
       "    \n",
       "            var poly_line_642ed4be26caa28cc1f5a6f22990d442 = L.polyline(\n",
       "                [[53.5784442, 9.7289394], [53.5809972, 9.7224553]],\n",
       "                {&quot;bubblingMouseEvents&quot;: true, &quot;color&quot;: &quot;blue&quot;, &quot;dashArray&quot;: null, &quot;dashOffset&quot;: null, &quot;fill&quot;: false, &quot;fillColor&quot;: &quot;blue&quot;, &quot;fillOpacity&quot;: 0.2, &quot;fillRule&quot;: &quot;evenodd&quot;, &quot;lineCap&quot;: &quot;round&quot;, &quot;lineJoin&quot;: &quot;round&quot;, &quot;noClip&quot;: false, &quot;opacity&quot;: 1, &quot;smoothFactor&quot;: 1.0, &quot;stroke&quot;: true, &quot;weight&quot;: 2.5}\n",
       "            ).addTo(map_bac7e59957ff970a23681a4b7116cf1b);\n",
       "        \n",
       "    \n",
       "            var poly_line_db27d809b90e4716674c708c671f770d = L.polyline(\n",
       "                [[53.5784442, 9.7289394], [53.5769783, 9.7211054]],\n",
       "                {&quot;bubblingMouseEvents&quot;: true, &quot;color&quot;: &quot;blue&quot;, &quot;dashArray&quot;: null, &quot;dashOffset&quot;: null, &quot;fill&quot;: false, &quot;fillColor&quot;: &quot;blue&quot;, &quot;fillOpacity&quot;: 0.2, &quot;fillRule&quot;: &quot;evenodd&quot;, &quot;lineCap&quot;: &quot;round&quot;, &quot;lineJoin&quot;: &quot;round&quot;, &quot;noClip&quot;: false, &quot;opacity&quot;: 1, &quot;smoothFactor&quot;: 1.0, &quot;stroke&quot;: true, &quot;weight&quot;: 2.5}\n",
       "            ).addTo(map_bac7e59957ff970a23681a4b7116cf1b);\n",
       "        \n",
       "    \n",
       "            var poly_line_38c9fe7bfee1c73faf10ec34cfa154ec = L.polyline(\n",
       "                [[53.5784442, 9.7289394], [53.5769783, 9.7211054]],\n",
       "                {&quot;bubblingMouseEvents&quot;: true, &quot;color&quot;: &quot;blue&quot;, &quot;dashArray&quot;: null, &quot;dashOffset&quot;: null, &quot;fill&quot;: false, &quot;fillColor&quot;: &quot;blue&quot;, &quot;fillOpacity&quot;: 0.2, &quot;fillRule&quot;: &quot;evenodd&quot;, &quot;lineCap&quot;: &quot;round&quot;, &quot;lineJoin&quot;: &quot;round&quot;, &quot;noClip&quot;: false, &quot;opacity&quot;: 1, &quot;smoothFactor&quot;: 1.0, &quot;stroke&quot;: true, &quot;weight&quot;: 2.5}\n",
       "            ).addTo(map_bac7e59957ff970a23681a4b7116cf1b);\n",
       "        \n",
       "    \n",
       "            var poly_line_e14a1f0c857bbbc84e085d8caf1e3554 = L.polyline(\n",
       "                [[53.5784442, 9.7289394], [53.5769783, 9.7211054]],\n",
       "                {&quot;bubblingMouseEvents&quot;: true, &quot;color&quot;: &quot;blue&quot;, &quot;dashArray&quot;: null, &quot;dashOffset&quot;: null, &quot;fill&quot;: false, &quot;fillColor&quot;: &quot;blue&quot;, &quot;fillOpacity&quot;: 0.2, &quot;fillRule&quot;: &quot;evenodd&quot;, &quot;lineCap&quot;: &quot;round&quot;, &quot;lineJoin&quot;: &quot;round&quot;, &quot;noClip&quot;: false, &quot;opacity&quot;: 1, &quot;smoothFactor&quot;: 1.0, &quot;stroke&quot;: true, &quot;weight&quot;: 2.5}\n",
       "            ).addTo(map_bac7e59957ff970a23681a4b7116cf1b);\n",
       "        \n",
       "    \n",
       "            var poly_line_dd6cfa28809c6ffaa6a0d45b106b96b5 = L.polyline(\n",
       "                [[53.5784442, 9.7289394], [53.5831185, 9.7242895]],\n",
       "                {&quot;bubblingMouseEvents&quot;: true, &quot;color&quot;: &quot;blue&quot;, &quot;dashArray&quot;: null, &quot;dashOffset&quot;: null, &quot;fill&quot;: false, &quot;fillColor&quot;: &quot;blue&quot;, &quot;fillOpacity&quot;: 0.2, &quot;fillRule&quot;: &quot;evenodd&quot;, &quot;lineCap&quot;: &quot;round&quot;, &quot;lineJoin&quot;: &quot;round&quot;, &quot;noClip&quot;: false, &quot;opacity&quot;: 1, &quot;smoothFactor&quot;: 1.0, &quot;stroke&quot;: true, &quot;weight&quot;: 2.5}\n",
       "            ).addTo(map_bac7e59957ff970a23681a4b7116cf1b);\n",
       "        \n",
       "    \n",
       "            var poly_line_838e59a446338f06f7d57f4c57a3bb6f = L.polyline(\n",
       "                [[53.5784442, 9.7289394], [53.5839927, 9.7250866]],\n",
       "                {&quot;bubblingMouseEvents&quot;: true, &quot;color&quot;: &quot;blue&quot;, &quot;dashArray&quot;: null, &quot;dashOffset&quot;: null, &quot;fill&quot;: false, &quot;fillColor&quot;: &quot;blue&quot;, &quot;fillOpacity&quot;: 0.2, &quot;fillRule&quot;: &quot;evenodd&quot;, &quot;lineCap&quot;: &quot;round&quot;, &quot;lineJoin&quot;: &quot;round&quot;, &quot;noClip&quot;: false, &quot;opacity&quot;: 1, &quot;smoothFactor&quot;: 1.0, &quot;stroke&quot;: true, &quot;weight&quot;: 2.5}\n",
       "            ).addTo(map_bac7e59957ff970a23681a4b7116cf1b);\n",
       "        \n",
       "    \n",
       "            var poly_line_e271e37e0f59d41288a4ca429dfef3c4 = L.polyline(\n",
       "                [[53.5784442, 9.7289394], [53.5839927, 9.7250866]],\n",
       "                {&quot;bubblingMouseEvents&quot;: true, &quot;color&quot;: &quot;blue&quot;, &quot;dashArray&quot;: null, &quot;dashOffset&quot;: null, &quot;fill&quot;: false, &quot;fillColor&quot;: &quot;blue&quot;, &quot;fillOpacity&quot;: 0.2, &quot;fillRule&quot;: &quot;evenodd&quot;, &quot;lineCap&quot;: &quot;round&quot;, &quot;lineJoin&quot;: &quot;round&quot;, &quot;noClip&quot;: false, &quot;opacity&quot;: 1, &quot;smoothFactor&quot;: 1.0, &quot;stroke&quot;: true, &quot;weight&quot;: 2.5}\n",
       "            ).addTo(map_bac7e59957ff970a23681a4b7116cf1b);\n",
       "        \n",
       "    \n",
       "            var poly_line_4371496d03fc7cf85d31e5e9fdc86503 = L.polyline(\n",
       "                [[53.5784442, 9.7289394], [53.5736621, 9.7226518]],\n",
       "                {&quot;bubblingMouseEvents&quot;: true, &quot;color&quot;: &quot;blue&quot;, &quot;dashArray&quot;: null, &quot;dashOffset&quot;: null, &quot;fill&quot;: false, &quot;fillColor&quot;: &quot;blue&quot;, &quot;fillOpacity&quot;: 0.2, &quot;fillRule&quot;: &quot;evenodd&quot;, &quot;lineCap&quot;: &quot;round&quot;, &quot;lineJoin&quot;: &quot;round&quot;, &quot;noClip&quot;: false, &quot;opacity&quot;: 1, &quot;smoothFactor&quot;: 1.0, &quot;stroke&quot;: true, &quot;weight&quot;: 2.5}\n",
       "            ).addTo(map_bac7e59957ff970a23681a4b7116cf1b);\n",
       "        \n",
       "    \n",
       "            var poly_line_ad120376853fd55ec4a94a891a7c6662 = L.polyline(\n",
       "                [[53.5784442, 9.7289394], [53.5736621, 9.7226518]],\n",
       "                {&quot;bubblingMouseEvents&quot;: true, &quot;color&quot;: &quot;blue&quot;, &quot;dashArray&quot;: null, &quot;dashOffset&quot;: null, &quot;fill&quot;: false, &quot;fillColor&quot;: &quot;blue&quot;, &quot;fillOpacity&quot;: 0.2, &quot;fillRule&quot;: &quot;evenodd&quot;, &quot;lineCap&quot;: &quot;round&quot;, &quot;lineJoin&quot;: &quot;round&quot;, &quot;noClip&quot;: false, &quot;opacity&quot;: 1, &quot;smoothFactor&quot;: 1.0, &quot;stroke&quot;: true, &quot;weight&quot;: 2.5}\n",
       "            ).addTo(map_bac7e59957ff970a23681a4b7116cf1b);\n",
       "        \n",
       "    \n",
       "            var poly_line_647f91962346b42a206efa626d323f02 = L.polyline(\n",
       "                [[53.5784442, 9.7289394], [53.5733321, 9.7203423]],\n",
       "                {&quot;bubblingMouseEvents&quot;: true, &quot;color&quot;: &quot;blue&quot;, &quot;dashArray&quot;: null, &quot;dashOffset&quot;: null, &quot;fill&quot;: false, &quot;fillColor&quot;: &quot;blue&quot;, &quot;fillOpacity&quot;: 0.2, &quot;fillRule&quot;: &quot;evenodd&quot;, &quot;lineCap&quot;: &quot;round&quot;, &quot;lineJoin&quot;: &quot;round&quot;, &quot;noClip&quot;: false, &quot;opacity&quot;: 1, &quot;smoothFactor&quot;: 1.0, &quot;stroke&quot;: true, &quot;weight&quot;: 2.5}\n",
       "            ).addTo(map_bac7e59957ff970a23681a4b7116cf1b);\n",
       "        \n",
       "    \n",
       "            var poly_line_2b51132fb8abacd6a77c18e18e5b7b58 = L.polyline(\n",
       "                [[53.5784442, 9.7289394], [53.5792949, 9.741682]],\n",
       "                {&quot;bubblingMouseEvents&quot;: true, &quot;color&quot;: &quot;blue&quot;, &quot;dashArray&quot;: null, &quot;dashOffset&quot;: null, &quot;fill&quot;: false, &quot;fillColor&quot;: &quot;blue&quot;, &quot;fillOpacity&quot;: 0.2, &quot;fillRule&quot;: &quot;evenodd&quot;, &quot;lineCap&quot;: &quot;round&quot;, &quot;lineJoin&quot;: &quot;round&quot;, &quot;noClip&quot;: false, &quot;opacity&quot;: 1, &quot;smoothFactor&quot;: 1.0, &quot;stroke&quot;: true, &quot;weight&quot;: 2.5}\n",
       "            ).addTo(map_bac7e59957ff970a23681a4b7116cf1b);\n",
       "        \n",
       "    \n",
       "            var poly_line_e43990fa393d8719f6838fc6a0df4af7 = L.polyline(\n",
       "                [[53.5784442, 9.7289394], [53.5843849, 9.718371]],\n",
       "                {&quot;bubblingMouseEvents&quot;: true, &quot;color&quot;: &quot;blue&quot;, &quot;dashArray&quot;: null, &quot;dashOffset&quot;: null, &quot;fill&quot;: false, &quot;fillColor&quot;: &quot;blue&quot;, &quot;fillOpacity&quot;: 0.2, &quot;fillRule&quot;: &quot;evenodd&quot;, &quot;lineCap&quot;: &quot;round&quot;, &quot;lineJoin&quot;: &quot;round&quot;, &quot;noClip&quot;: false, &quot;opacity&quot;: 1, &quot;smoothFactor&quot;: 1.0, &quot;stroke&quot;: true, &quot;weight&quot;: 2.5}\n",
       "            ).addTo(map_bac7e59957ff970a23681a4b7116cf1b);\n",
       "        \n",
       "    \n",
       "            var poly_line_d81a7532c2e60889688d1855fc428b56 = L.polyline(\n",
       "                [[53.5784442, 9.7289394], [53.5843849, 9.718371]],\n",
       "                {&quot;bubblingMouseEvents&quot;: true, &quot;color&quot;: &quot;blue&quot;, &quot;dashArray&quot;: null, &quot;dashOffset&quot;: null, &quot;fill&quot;: false, &quot;fillColor&quot;: &quot;blue&quot;, &quot;fillOpacity&quot;: 0.2, &quot;fillRule&quot;: &quot;evenodd&quot;, &quot;lineCap&quot;: &quot;round&quot;, &quot;lineJoin&quot;: &quot;round&quot;, &quot;noClip&quot;: false, &quot;opacity&quot;: 1, &quot;smoothFactor&quot;: 1.0, &quot;stroke&quot;: true, &quot;weight&quot;: 2.5}\n",
       "            ).addTo(map_bac7e59957ff970a23681a4b7116cf1b);\n",
       "        \n",
       "    \n",
       "            var poly_line_c9fb836ec7746ff37238118d3e9a49af = L.polyline(\n",
       "                [[53.5784442, 9.7289394], [53.5843849, 9.718371]],\n",
       "                {&quot;bubblingMouseEvents&quot;: true, &quot;color&quot;: &quot;blue&quot;, &quot;dashArray&quot;: null, &quot;dashOffset&quot;: null, &quot;fill&quot;: false, &quot;fillColor&quot;: &quot;blue&quot;, &quot;fillOpacity&quot;: 0.2, &quot;fillRule&quot;: &quot;evenodd&quot;, &quot;lineCap&quot;: &quot;round&quot;, &quot;lineJoin&quot;: &quot;round&quot;, &quot;noClip&quot;: false, &quot;opacity&quot;: 1, &quot;smoothFactor&quot;: 1.0, &quot;stroke&quot;: true, &quot;weight&quot;: 2.5}\n",
       "            ).addTo(map_bac7e59957ff970a23681a4b7116cf1b);\n",
       "        \n",
       "    \n",
       "            var poly_line_035ed9c7ca850213642a3de76fac43da = L.polyline(\n",
       "                [[53.5784442, 9.7289394], [53.5843849, 9.718371]],\n",
       "                {&quot;bubblingMouseEvents&quot;: true, &quot;color&quot;: &quot;blue&quot;, &quot;dashArray&quot;: null, &quot;dashOffset&quot;: null, &quot;fill&quot;: false, &quot;fillColor&quot;: &quot;blue&quot;, &quot;fillOpacity&quot;: 0.2, &quot;fillRule&quot;: &quot;evenodd&quot;, &quot;lineCap&quot;: &quot;round&quot;, &quot;lineJoin&quot;: &quot;round&quot;, &quot;noClip&quot;: false, &quot;opacity&quot;: 1, &quot;smoothFactor&quot;: 1.0, &quot;stroke&quot;: true, &quot;weight&quot;: 2.5}\n",
       "            ).addTo(map_bac7e59957ff970a23681a4b7116cf1b);\n",
       "        \n",
       "    \n",
       "            var poly_line_54889fcadc5d112c7c4c6e7c382c0feb = L.polyline(\n",
       "                [[53.5784442, 9.7289394], [53.5843849, 9.718371]],\n",
       "                {&quot;bubblingMouseEvents&quot;: true, &quot;color&quot;: &quot;blue&quot;, &quot;dashArray&quot;: null, &quot;dashOffset&quot;: null, &quot;fill&quot;: false, &quot;fillColor&quot;: &quot;blue&quot;, &quot;fillOpacity&quot;: 0.2, &quot;fillRule&quot;: &quot;evenodd&quot;, &quot;lineCap&quot;: &quot;round&quot;, &quot;lineJoin&quot;: &quot;round&quot;, &quot;noClip&quot;: false, &quot;opacity&quot;: 1, &quot;smoothFactor&quot;: 1.0, &quot;stroke&quot;: true, &quot;weight&quot;: 2.5}\n",
       "            ).addTo(map_bac7e59957ff970a23681a4b7116cf1b);\n",
       "        \n",
       "    \n",
       "            var poly_line_225c50e9946dae9f958d40c254159822 = L.polyline(\n",
       "                [[53.5784442, 9.7289394], [53.5843849, 9.718371]],\n",
       "                {&quot;bubblingMouseEvents&quot;: true, &quot;color&quot;: &quot;blue&quot;, &quot;dashArray&quot;: null, &quot;dashOffset&quot;: null, &quot;fill&quot;: false, &quot;fillColor&quot;: &quot;blue&quot;, &quot;fillOpacity&quot;: 0.2, &quot;fillRule&quot;: &quot;evenodd&quot;, &quot;lineCap&quot;: &quot;round&quot;, &quot;lineJoin&quot;: &quot;round&quot;, &quot;noClip&quot;: false, &quot;opacity&quot;: 1, &quot;smoothFactor&quot;: 1.0, &quot;stroke&quot;: true, &quot;weight&quot;: 2.5}\n",
       "            ).addTo(map_bac7e59957ff970a23681a4b7116cf1b);\n",
       "        \n",
       "    \n",
       "            var poly_line_a70fbe6eec0ffd48c84b4c2fdbbca32c = L.polyline(\n",
       "                [[53.5784442, 9.7289394], [53.5843849, 9.718371]],\n",
       "                {&quot;bubblingMouseEvents&quot;: true, &quot;color&quot;: &quot;blue&quot;, &quot;dashArray&quot;: null, &quot;dashOffset&quot;: null, &quot;fill&quot;: false, &quot;fillColor&quot;: &quot;blue&quot;, &quot;fillOpacity&quot;: 0.2, &quot;fillRule&quot;: &quot;evenodd&quot;, &quot;lineCap&quot;: &quot;round&quot;, &quot;lineJoin&quot;: &quot;round&quot;, &quot;noClip&quot;: false, &quot;opacity&quot;: 1, &quot;smoothFactor&quot;: 1.0, &quot;stroke&quot;: true, &quot;weight&quot;: 2.5}\n",
       "            ).addTo(map_bac7e59957ff970a23681a4b7116cf1b);\n",
       "        \n",
       "    \n",
       "            var poly_line_39a8d3b03fb67cc18bd2a70e417add0a = L.polyline(\n",
       "                [[53.5784442, 9.7289394], [53.5843849, 9.718371]],\n",
       "                {&quot;bubblingMouseEvents&quot;: true, &quot;color&quot;: &quot;blue&quot;, &quot;dashArray&quot;: null, &quot;dashOffset&quot;: null, &quot;fill&quot;: false, &quot;fillColor&quot;: &quot;blue&quot;, &quot;fillOpacity&quot;: 0.2, &quot;fillRule&quot;: &quot;evenodd&quot;, &quot;lineCap&quot;: &quot;round&quot;, &quot;lineJoin&quot;: &quot;round&quot;, &quot;noClip&quot;: false, &quot;opacity&quot;: 1, &quot;smoothFactor&quot;: 1.0, &quot;stroke&quot;: true, &quot;weight&quot;: 2.5}\n",
       "            ).addTo(map_bac7e59957ff970a23681a4b7116cf1b);\n",
       "        \n",
       "&lt;/script&gt;\n",
       "&lt;/html&gt;\" style=\"position:absolute;width:100%;height:100%;left:0;top:0;border:none !important;\" allowfullscreen webkitallowfullscreen mozallowfullscreen></iframe></div></div>"
      ],
      "text/plain": [
       "<folium.folium.Map at 0x2abcfe31df0>"
      ]
     },
     "metadata": {},
     "output_type": "display_data"
    },
    {
     "data": {
      "text/html": [
       "<div>\n",
       "<style scoped>\n",
       "    .dataframe tbody tr th:only-of-type {\n",
       "        vertical-align: middle;\n",
       "    }\n",
       "\n",
       "    .dataframe tbody tr th {\n",
       "        vertical-align: top;\n",
       "    }\n",
       "\n",
       "    .dataframe thead th {\n",
       "        text-align: right;\n",
       "    }\n",
       "</style>\n",
       "<table border=\"1\" class=\"dataframe\">\n",
       "  <thead>\n",
       "    <tr style=\"text-align: right;\">\n",
       "      <th></th>\n",
       "      <th>roomCount</th>\n",
       "      <th>propertyAge</th>\n",
       "      <th>livingSpace</th>\n",
       "      <th>hasBasement</th>\n",
       "      <th>hasBalcony</th>\n",
       "      <th>parkingLotCount</th>\n",
       "      <th>hasGarden</th>\n",
       "      <th>hasElevator</th>\n",
       "      <th>houseType</th>\n",
       "      <th>count_nearby</th>\n",
       "      <th>mean_rent_per_sqm_nearby</th>\n",
       "      <th>std_rent_per_sqm_nearby</th>\n",
       "      <th>min_rent_per_sqm_nearby</th>\n",
       "      <th>max_rent_per_sqm_nearby</th>\n",
       "      <th>mean_hasBasement_nearby</th>\n",
       "      <th>mean_hasBalcony_nearby</th>\n",
       "      <th>mean_hasGarden_nearby</th>\n",
       "      <th>mean_hasElevator_nearby</th>\n",
       "    </tr>\n",
       "  </thead>\n",
       "  <tbody>\n",
       "    <tr>\n",
       "      <th>0</th>\n",
       "      <td>2</td>\n",
       "      <td>19</td>\n",
       "      <td>40.0</td>\n",
       "      <td>False</td>\n",
       "      <td>True</td>\n",
       "      <td>4</td>\n",
       "      <td>False</td>\n",
       "      <td>True</td>\n",
       "      <td>1</td>\n",
       "      <td>20.0</td>\n",
       "      <td>11.91223</td>\n",
       "      <td>2.195419</td>\n",
       "      <td>9.458182</td>\n",
       "      <td>20.725714</td>\n",
       "      <td>0.5</td>\n",
       "      <td>0.75</td>\n",
       "      <td>0.05</td>\n",
       "      <td>0.45</td>\n",
       "    </tr>\n",
       "  </tbody>\n",
       "</table>\n",
       "</div>"
      ],
      "text/plain": [
       "   roomCount  propertyAge  livingSpace  hasBasement  hasBalcony  \\\n",
       "0          2           19         40.0        False        True   \n",
       "\n",
       "   parkingLotCount  hasGarden  hasElevator  houseType  count_nearby  \\\n",
       "0                4      False         True          1          20.0   \n",
       "\n",
       "   mean_rent_per_sqm_nearby  std_rent_per_sqm_nearby  min_rent_per_sqm_nearby  \\\n",
       "0                  11.91223                 2.195419                 9.458182   \n",
       "\n",
       "   max_rent_per_sqm_nearby  mean_hasBasement_nearby  mean_hasBalcony_nearby  \\\n",
       "0                20.725714                      0.5                    0.75   \n",
       "\n",
       "   mean_hasGarden_nearby  mean_hasElevator_nearby  \n",
       "0                   0.05                     0.45  "
      ]
     },
     "metadata": {},
     "output_type": "display_data"
    },
    {
     "data": {
      "application/vnd.jupyter.widget-view+json": {
       "model_id": "d649b3d65fd74ced9a28cdb6f5cafdb9",
       "version_major": 2,
       "version_minor": 0
      },
      "text/plain": [
       "Text(value='Feldstrasse 143, 22880 Wedel', description='Address')"
      ]
     },
     "metadata": {},
     "output_type": "display_data"
    },
    {
     "data": {
      "application/vnd.jupyter.widget-view+json": {
       "model_id": "53c662678cf44a9b8e9742a224bff2c5",
       "version_major": 2,
       "version_minor": 0
      },
      "text/plain": [
       "FloatText(value=40.0, description='Living Space (sqm)')"
      ]
     },
     "metadata": {},
     "output_type": "display_data"
    },
    {
     "data": {
      "application/vnd.jupyter.widget-view+json": {
       "model_id": "68e17ca4620c46778d04293c7955c922",
       "version_major": 2,
       "version_minor": 0
      },
      "text/plain": [
       "IntSlider(value=2, description='Room Count', max=10, min=1)"
      ]
     },
     "metadata": {},
     "output_type": "display_data"
    },
    {
     "data": {
      "application/vnd.jupyter.widget-view+json": {
       "model_id": "0dbf86070b1e4318add50b2a63034f39",
       "version_major": 2,
       "version_minor": 0
      },
      "text/plain": [
       "IntSlider(value=19, description='Property Age')"
      ]
     },
     "metadata": {},
     "output_type": "display_data"
    },
    {
     "data": {
      "application/vnd.jupyter.widget-view+json": {
       "model_id": "7d554289ea9a40beb36994cf9843a8de",
       "version_major": 2,
       "version_minor": 0
      },
      "text/plain": [
       "ToggleButton(value=False, description='Has Basement')"
      ]
     },
     "metadata": {},
     "output_type": "display_data"
    },
    {
     "data": {
      "application/vnd.jupyter.widget-view+json": {
       "model_id": "477783c8e4944f8bac8d9843ec758d65",
       "version_major": 2,
       "version_minor": 0
      },
      "text/plain": [
       "ToggleButton(value=True, description='Has Balcony')"
      ]
     },
     "metadata": {},
     "output_type": "display_data"
    },
    {
     "data": {
      "application/vnd.jupyter.widget-view+json": {
       "model_id": "c4c50685bbaa44cd9de862f13d5eb6d6",
       "version_major": 2,
       "version_minor": 0
      },
      "text/plain": [
       "IntSlider(value=4, description='Parking Lot Count', max=10)"
      ]
     },
     "metadata": {},
     "output_type": "display_data"
    },
    {
     "data": {
      "application/vnd.jupyter.widget-view+json": {
       "model_id": "c2f9959c39ab4fb1a4fcae244bf723f8",
       "version_major": 2,
       "version_minor": 0
      },
      "text/plain": [
       "ToggleButton(value=False, description='Has Garden')"
      ]
     },
     "metadata": {},
     "output_type": "display_data"
    },
    {
     "data": {
      "application/vnd.jupyter.widget-view+json": {
       "model_id": "bc0f02d350cf44b898b47a27fc46d536",
       "version_major": 2,
       "version_minor": 0
      },
      "text/plain": [
       "ToggleButton(value=True, description='Has Elevator')"
      ]
     },
     "metadata": {},
     "output_type": "display_data"
    },
    {
     "data": {
      "application/vnd.jupyter.widget-view+json": {
       "model_id": "06a9395a20b24f5a8447548271617b28",
       "version_major": 2,
       "version_minor": 0
      },
      "text/plain": [
       "Dropdown(description='House Type', index=1, options=('Apartment', 'Groundfloor', 'half basement', 'roof storey…"
      ]
     },
     "metadata": {},
     "output_type": "display_data"
    },
    {
     "data": {
      "application/vnd.jupyter.widget-view+json": {
       "model_id": "e3e408d4a83d4b5583c985beffc5508b",
       "version_major": 2,
       "version_minor": 0
      },
      "text/plain": [
       "IntSlider(value=2023, description='PredictedYear', max=2025, min=2022)"
      ]
     },
     "metadata": {},
     "output_type": "display_data"
    },
    {
     "data": {
      "application/vnd.jupyter.widget-view+json": {
       "model_id": "823d5f7d0cce4bebbb7f47fa283482eb",
       "version_major": 2,
       "version_minor": 0
      },
      "text/plain": [
       "Button(description='Predict', style=ButtonStyle())"
      ]
     },
     "metadata": {},
     "output_type": "display_data"
    }
   ],
   "source": [
    "from tensorflow.keras.models import load_model\n",
    "import pandas as pd\n",
    "import numpy as np\n",
    "from geopy.distance import geodesic\n",
    "from geopy.geocoders import Nominatim\n",
    "from sklearn.neighbors import BallTree\n",
    "import ipywidgets as widgets\n",
    "from IPython.display import display\n",
    "import folium\n",
    "import geopandas as gpd\n",
    "from shapely.geometry import Point\n",
    "import joblib\n",
    "from IPython.display import clear_output\n",
    "import matplotlib.pyplot as plt\n",
    "from pathlib import Path\n",
    "\n",
    "# Pfad zu den JSON-Dateien\n",
    "current_directory = Path().resolve()\n",
    "path_to_data = current_directory / \"Final_Ref_Data\"\n",
    "\n",
    "#path_to_data = 'C:/Users/Joel/Desktop/FH-Wedel/Learning und Softcomputing/Finally_XG Boost/Taining_Data_Calc/'\n",
    "\n",
    "# Erstellen des BallTree\n",
    "#coords = np.radians(gdf[['Latitude', 'Longitude']].values)\n",
    "#tree = BallTree(coords, metric='haversine')\n",
    "model = load_model('rent_per_sqm_model_nn.h5')\n",
    "scaler = joblib.load('scaler1.pkl') \n",
    "\n",
    "def geocode_address(address):\n",
    "    geolocator = Nominatim(user_agent=\"geoapiExercises\")\n",
    "    location = geolocator.geocode(address)\n",
    "    return (location.latitude, location.longitude) if location else None\n",
    "\n",
    "def find_nearby(point, gdf, tree, num_points=20):\n",
    "    point = np.radians([point])\n",
    "    dist, ind = tree.query(point, k=num_points)\n",
    "    nearest_points = gdf.iloc[ind[0]]\n",
    "\n",
    "    desc = nearest_points['quadratmeterpreis'].describe().drop(['25%', '50%', '75%'])\n",
    "    desc.index = ['count_nearby', 'mean_rent_per_sqm_nearby', 'std_rent_per_sqm_nearby', \n",
    "              'min_rent_per_sqm_nearby', 'max_rent_per_sqm_nearby']\n",
    "    \n",
    "    for feature in [\"hasBasement\", \"hasBalcony\", \"hasGarden\", \"hasElevator\"]:\n",
    "        desc[f'mean_{feature}_nearby'] = nearest_points[feature].mean()\n",
    "\n",
    "    return desc, nearest_points[['Latitude', 'Longitude']]\n",
    "\n",
    "\n",
    "def convert_house_type(house_type):\n",
    "    house_type_mapping = {\n",
    "        \"Apartment\": 0,\n",
    "        \"Groundfloor\": 1,\n",
    "        \"half basement\": 2,\n",
    "        \"roof storey\": 3,\n",
    "        \"maisonette\": 4,\n",
    "        \"raised ground floor\": 5,\n",
    "        \"terraced flat\": 6,\n",
    "        \"penthouse\": 8,\n",
    "        \"loft\": 9,\n",
    "        \"other\": 7\n",
    "    }\n",
    "\n",
    "    return house_type_mapping.get(house_type, 0)  # Standardwert 0, falls keine Übereinstimmung gefunden wird\n",
    "\n",
    "def predict(address, living_space, room_count, property_age, has_basement, has_balcony, parking_lot_count, has_garden, has_elevator, house_type, PredictedYear):\n",
    "    # Laden des Datensatzes basierend auf dem ausgewählten Jahr\n",
    "    data_path = path_to_data.joinpath(f'trainingData_fut_{PredictedYear}_calc_res.json')\n",
    "    data = pd.read_json(data_path)\n",
    "    data['quadratmeterpreis'] = data['rent'] / data['livingSpace']\n",
    "    gdf = gpd.GeoDataFrame(data, geometry=gpd.points_from_xy(data.Longitude, data.Latitude))\n",
    "\n",
    "    # Erstellen des BallTree\n",
    "    coords = np.radians(gdf[['Latitude', 'Longitude']].values)\n",
    "    tree = BallTree(coords, metric='haversine')\n",
    "\n",
    "    coordinates = geocode_address(address)\n",
    "\n",
    "    if coordinates:\n",
    "        nearby_features, reference_points = find_nearby(coordinates, gdf, tree)\n",
    "\n",
    "        input_data = {\n",
    "            'roomCount': room_count,\n",
    "            'propertyAge': property_age,\n",
    "            'livingSpace': living_space,\n",
    "            'hasBasement': has_basement,\n",
    "            'hasBalcony': has_balcony,\n",
    "            'parkingLotCount': parking_lot_count,\n",
    "            'hasGarden': has_garden,\n",
    "            'hasElevator': has_elevator,\n",
    "            'houseType': convert_house_type(house_type),\n",
    "            **nearby_features.to_dict()}\n",
    "\n",
    "        input_df = pd.DataFrame(input_data, index=[0])\n",
    "        input_scaled = scaler.transform(input_df)\n",
    "        prediction = model.predict(input_scaled)\n",
    "\n",
    "        return prediction[0][0], input_df, coordinates, reference_points\n",
    "\n",
    "    else:\n",
    "        print('Unable to geocode address.')\n",
    "        return None, None, None, None\n",
    "\n",
    "\n",
    "\n",
    "from IPython.display import clear_output\n",
    "\n",
    "def predict_button_clicked(b):\n",
    "    clear_output(wait=True)\n",
    "    \n",
    "    address = address_widget.value\n",
    "    living_space = living_space_widget.value\n",
    "    room_count = room_count_widget.value\n",
    "    property_age = property_age_widget.value\n",
    "    has_basement = has_basement_widget.value\n",
    "    has_balcony = has_balcony_widget.value\n",
    "    parking_lot_count = parking_lot_count_widget.value\n",
    "    has_garden = has_garden_widget.value\n",
    "    has_elevator = has_elevator_widget.value\n",
    "    house_type = house_type_widget.value\n",
    "    PredictedYear = year_widget.value\n",
    "\n",
    "    prediction, prediction_data, coordinates, reference_points = predict(address, living_space, room_count, property_age, has_basement, has_balcony, parking_lot_count, has_garden, has_elevator, house_type, PredictedYear)\n",
    "    \n",
    "    if prediction:\n",
    "        display(widgets.Label(value=f'Prediction: {round(prediction * living_space, 1)}€')) #* living_space\n",
    "        \n",
    "        if coordinates is not None:\n",
    "            m = folium.Map(location=[coordinates[0], coordinates[1]], zoom_start=14)\n",
    "            folium.Marker([coordinates[0], coordinates[1]]).add_to(m)\n",
    "\n",
    "            for _, row in reference_points.iterrows():\n",
    "                folium.PolyLine([(coordinates[0], coordinates[1]), (row['Latitude'], row['Longitude'])], color=\"blue\", weight=2.5, opacity=1).add_to(m)\n",
    "            \n",
    "            display(m)\n",
    "        \n",
    "        display(pd.DataFrame(prediction_data))\n",
    "    else:\n",
    "        display(widgets.Label(value='Cannot geocode address.'))\n",
    "    \n",
    "    display(address_widget, living_space_widget, room_count_widget, property_age_widget, has_basement_widget, has_balcony_widget, parking_lot_count_widget, has_garden_widget, has_elevator_widget, house_type_widget, year_widget, predict_button)\n",
    "\n",
    "\n",
    "address_widget = widgets.Text(description='Address')\n",
    "living_space_widget = widgets.FloatText(description='Living Space (sqm)')\n",
    "room_count_widget = widgets.IntSlider(description='Room Count', min=1, max=10, value=2)\n",
    "property_age_widget = widgets.IntSlider(description='Property Age', min=0, max=100, value=2)\n",
    "has_basement_widget = widgets.ToggleButton(description='Has Basement', value=False)\n",
    "has_balcony_widget = widgets.ToggleButton(description='Has Balcony', value=True)\n",
    "parking_lot_count_widget = widgets.IntSlider(description='Parking Lot Count', min=0, max=10, value=0)\n",
    "has_garden_widget = widgets.ToggleButton(description='Has Garden', value=False)\n",
    "has_elevator_widget = widgets.ToggleButton(description='Has Elevator', value=True)\n",
    "house_type_widget = widgets.Dropdown(description='House Type', options=['Apartment', 'Groundfloor','half basement', 'roof storey','maisonette','raised ground floor', 'terraced flat','penthouse', 'loft', 'other'], value='Apartment')\n",
    "year_widget = widgets.IntSlider(description='PredictedYear', min=2022, max=2025, value=2023)\n",
    "\n",
    "predict_button = widgets.Button(description='Predict')\n",
    "predict_button.on_click(predict_button_clicked)\n",
    "\n",
    "display(address_widget, living_space_widget, room_count_widget, property_age_widget, \n",
    "        has_basement_widget, has_balcony_widget, parking_lot_count_widget, has_garden_widget, \n",
    "        has_elevator_widget, house_type_widget, year_widget, predict_button)\n"
   ]
  }
 ],
 "metadata": {
  "kernelspec": {
   "display_name": "Python 3",
   "language": "python",
   "name": "python3"
  },
  "language_info": {
   "codemirror_mode": {
    "name": "ipython",
    "version": 3
   },
   "file_extension": ".py",
   "mimetype": "text/x-python",
   "name": "python",
   "nbconvert_exporter": "python",
   "pygments_lexer": "ipython3",
   "version": "3.9.6"
  },
  "orig_nbformat": 4
 },
 "nbformat": 4,
 "nbformat_minor": 2
}
