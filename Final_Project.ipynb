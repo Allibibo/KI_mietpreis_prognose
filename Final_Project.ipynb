{
 "cells": [
  {
   "attachments": {},
   "cell_type": "markdown",
   "metadata": {},
   "source": [
    "# Mietpreisprognose"
   ]
  },
  {
   "attachments": {},
   "cell_type": "markdown",
   "metadata": {},
   "source": [
    "Vorgehen\n",
    "-aktuelle Daten Sammeln\n",
    "-Mit hsytorischen Mietspiegeln zurückrechnen und somit hystorische Daten erstellen\n",
    "-Atribute Finden, die ein vollkommenes Modell bilden könnten (hier Eingeschränkt, da Atribute/exogene VAriablen theoretisch immer weiter konkretisierbar)\n",
    "-Gewichte der Atribute (zum Beispiel mittels Heat-Map)\n",
    "\n",
    "Modell bauen:\n",
    "-Prognose von Rafferenzmieten durch Schätzung mit Möglicher Anpassung von Atributen\n",
    "-Schätzmodell Für Mieten, durch Standortnahe Refferenzmieten (Refferenzmieten können dabei Prognostiziert werden)\n",
    "\n"
   ]
  },
  {
   "attachments": {},
   "cell_type": "markdown",
   "metadata": {},
   "source": [
    "# Datenaufbereitung"
   ]
  },
  {
   "attachments": {},
   "cell_type": "markdown",
   "metadata": {},
   "source": [
    "## Hinzufügen von Koordinaten"
   ]
  },
  {
   "attachments": {},
   "cell_type": "markdown",
   "metadata": {},
   "source": [
    "Adressen mittels der Google-Geocode-API in Koordinaten umwandeln um nummerische Daten für weiteren Berechnung zu erhalten"
   ]
  },
  {
   "cell_type": "code",
   "execution_count": null,
   "metadata": {},
   "outputs": [],
   "source": [
    "import json\n",
    "import requests\n",
    "import time\n",
    "import os\n",
    "from tqdm import tqdm\n",
    "\n",
    "# Lade die Daten\n",
    "def load_data(file_name):\n",
    "    with open(file_name, 'r', encoding='utf-8') as file:\n",
    "        loaded_data = json.load(file)\n",
    "    return loaded_data\n",
    "\n",
    "# Sonderzeichen behandeln\n",
    "def handle_special_characters(value):\n",
    "    if isinstance(value, str):  # Überprüfen, ob der Wert ein String ist\n",
    "        # Umlaute umwandeln\n",
    "        value = value.replace(\"ß\", \"ss\")\n",
    "        value = value.replace(\"ä\", \"ae\")\n",
    "        value = value.replace(\"Ä\", \"Ae\")\n",
    "        value = value.replace(\"Ü\", \"Ue\")\n",
    "        value = value.replace(\"ü\", \"ue\")\n",
    "        value = value.replace(\"ö\", \"oe\")\n",
    "    return value\n",
    "\n",
    "# Sonderzeichen in den geladenen Daten ersetzen\n",
    "def handle_special_chars_in_data(loaded_data):\n",
    "    decoded_data = []\n",
    "    for dictionary in loaded_data:\n",
    "        new_dict = {}\n",
    "        for key, value in dictionary.items():\n",
    "            new_dict[key] = handle_special_characters(value)\n",
    "        decoded_data.append(new_dict)\n",
    "    return decoded_data\n",
    "\n",
    "# Funktion zum Formatieren der Adresse\n",
    "def format_address(item):\n",
    "    bundesland = item['bundesland']\n",
    "    stadtteil = item['stadtteil']\n",
    "    stadt = item['stadt']\n",
    "    strasse = item.get('strasse', '')  # Falls 'strasse' nicht vorhanden ist, setze einen leeren String\n",
    "    plz = item['plz']\n",
    "    return f\"{strasse}, {plz} {stadtteil}, {stadt}, {bundesland}\"\n",
    "\n",
    "# Gehe durch die ursprünglichen Daten und formatiere die Adressen\n",
    "def format_addresses(decoded_data):\n",
    "    new_data = []\n",
    "    for item in tqdm(decoded_data, desc=\"Adressformatierung\", total=len(decoded_data)):\n",
    "        address = format_address(item)\n",
    "        item['address'] = address\n",
    "        new_data.append(item)\n",
    "    return new_data\n",
    "\n",
    "def geocode_google(address, api_key):\n",
    "    # Geocodierung einer Adresse\n",
    "    url = f\"https://maps.googleapis.com/maps/api/geocode/json?address={address}&key={api_key}\"\n",
    "    response = requests.get(url)\n",
    "    data = response.json()\n",
    "    if data['results']:\n",
    "        location = data['results'][0]['geometry']['location']\n",
    "        return location['lat'], location['lng']\n",
    "    else:\n",
    "        return None, None\n",
    "\n",
    "# Speichern der endgültigen Daten in eine JSON-Datei\n",
    "def save_to_json(data, output_filename):\n",
    "    with open(output_filename, 'w', encoding='utf-8') as file:\n",
    "        json.dump(data, file, ensure_ascii=False, indent=2)\n",
    "\n",
    "def main():\n",
    "    api_key = \"Private_Google_key!!!\"\n",
    "    input_filename = \"trainingData.json\"\n",
    "    output_filename = \"trainingData_located.json\"\n",
    "    \n",
    "    # Lade die Daten ein\n",
    "    loaded_data = load_data(input_filename)\n",
    "\n",
    "    # Handle special characters\n",
    "    decoded_data = handle_special_chars_in_data(loaded_data)\n",
    "    \n",
    "    # Format addresses\n",
    "    new_data = format_addresses(decoded_data)\n",
    "\n",
    "    for item in new_data:\n",
    "        address = item['address']\n",
    "\n",
    "        # Geocodierung der Adresse\n",
    "        latitude, longitude = geocode_google(address, api_key)\n",
    "\n",
    "        # Fügt die geocodierten Daten zu den vorhandenen Daten hinzu\n",
    "        if latitude and longitude:\n",
    "            item['Latitude'] = latitude\n",
    "            item['Longitude'] = longitude\n",
    "        \n",
    "    # Speichern der endgültigen Daten in eine JSON-Datei\n",
    "    save_to_json(new_data, output_filename)\n",
    "\n",
    "if __name__ == \"__main__\":\n",
    "    main()"
   ]
  },
  {
   "attachments": {},
   "cell_type": "markdown",
   "metadata": {},
   "source": [
    "### Anzeigen der Datenpunkte"
   ]
  },
  {
   "cell_type": "code",
   "execution_count": null,
   "metadata": {},
   "outputs": [],
   "source": [
    "import folium\n",
    "import json\n",
    "\n",
    "# Lese die JSON-Datei ein\n",
    "with open('trainingData_located20XX.json', 'r') as file:\n",
    "    data = json.load(file)\n",
    "\n",
    "# Erstelle eine Karte von Deutschland\n",
    "map = folium.Map(location=[51.1657, 10.4515], zoom_start=6)\n",
    "\n",
    "# Iteriere über die Datenpunkte und füge Marker zur Karte hinzu\n",
    "for item in data:\n",
    "    latitude = float(item['Latitude'])\n",
    "    longitude = float(item['Longitude'])\n",
    "    bundesland = item['bundesland']\n",
    "    stadtteil = item['stadtteil']\n",
    "    stadt = item['stadt']\n",
    "    strasse = item.get('strasse', '')\n",
    "    plz = item['plz']\n",
    "    address = f\"{strasse}, {plz} {stadtteil}, {stadt}, {bundesland}\"\n",
    "\n",
    "    # Erstelle einen blauen Punkt mit einer Pixelgröße von 2\n",
    "    folium.CircleMarker(location=[latitude, longitude], radius=0.5, color='blue', fill=True, fill_color='blue').add_to(map)\n",
    "\n",
    "# Zeige die Karte an\n",
    "map"
   ]
  },
  {
   "attachments": {},
   "cell_type": "markdown",
   "metadata": {},
   "source": [
    "## Hystorische Daten mittels lokalen Mietpreisspiegeln erstellen\n",
    "Aufgrund nicht ausreichend vorhandene Daten von Mietpreisspiegelhystorien und eine ungenügende Anzahl an Hystorischen Mietpreisen, ist man mit den gesammelten Mietpiegel lediglich in der Lage, die Rückberechnung der Grösstenm Städte Deutschlands zu vollziehen."
   ]
  },
  {
   "cell_type": "code",
   "execution_count": 8,
   "metadata": {},
   "outputs": [],
   "source": [
    "import json\n",
    "import os\n",
    "\n",
    "# Pfad zur Ausgangsdatei mit den Standortdaten\n",
    "input_file_path = \"trainingData_located20XX.json\"\n",
    "\n",
    "# Pfad zum Ordner mit den Mietpreisentwicklungsdateien für die Städte\n",
    "rent_prices_folder_path = \"Mietspiegel_Calculation\"\n",
    "\n",
    "# Zielstädte, nach denen gefiltert werden soll\n",
    "target_cities = [\"Berlin\", \"Bremen\", \"Dortmund\", \"Hamburg\", \"München\"]\n",
    "\n",
    "# Jahre, für die die Mietpreise zurückgerechnet werden sollen (von 2010 bis 2020)\n",
    "target_years = range(2010, 2021)\n",
    "\n",
    "# Neuer Pfad für die gespeicherten Dateien\n",
    "output_folder_path = \"Historical_Data\"\n",
    "\n",
    "# Überprüfen, ob der Zielordner existiert, und erstellen, wenn nicht\n",
    "if not os.path.exists(output_folder_path):\n",
    "    os.makedirs(output_folder_path)\n",
    "\n",
    "for target_year in target_years:\n",
    "    adjusted_data = []  # Liste zur Speicherung aller angepassten Daten für das Zieljahr\n",
    "\n",
    "    for target_city in target_cities:\n",
    "        # JSON-Datei mit den Standortdaten öffnen und Daten laden\n",
    "        with open(input_file_path, \"r\") as input_file:\n",
    "            data = json.load(input_file)\n",
    "\n",
    "        # Pfad zur Mietpreisentwicklungsdatei für die Zielstadt und das Zieljahr\n",
    "        rent_prices_file_path = os.path.join(rent_prices_folder_path, f\"Mietpreisspiegel {target_city}.json\")\n",
    "\n",
    "        # JSON-Datei mit der Mietpreisentwicklung öffnen und Daten laden\n",
    "        with open(rent_prices_file_path, \"r\") as rent_prices_file:\n",
    "            rent_prices_data = json.load(rent_prices_file)\n",
    "\n",
    "        # Filterung der Standortdaten nach der Zielstadt\n",
    "        filtered_data = [entry for entry in data if entry[\"stadt\"] == target_city]\n",
    "\n",
    "        # Mietpreis für das Zieljahr in der Mietpreisentwicklung der Stadt finden\n",
    "        target_rent_price = next(\n",
    "            entry[\"Kaltmiete in Euro/mÂ²\"]\n",
    "            for entry in rent_prices_data\n",
    "            if entry[\"Jahr\"] == target_year\n",
    "        )\n",
    "\n",
    "        # Mietpreise in den Standortdaten entsprechend anpassen\n",
    "        for entry in filtered_data:\n",
    "            entry[\"rent\"] = float(target_rent_price.replace(\",\", \".\")) * entry[\"livingSpace\"]\n",
    "\n",
    "        # Angepasste Daten zur Liste hinzufügen\n",
    "        adjusted_data.extend(filtered_data)\n",
    "\n",
    "    # Pfad zur JSON-Datei für die angepassten Standortdaten erstellen\n",
    "    output_file_path = os.path.join(output_folder_path, f\"trainingData_located{target_year}_AllCities_AdjustedRent.json\")\n",
    "\n",
    "    # JSON-Datei für die angepassten Standortdaten erstellen und speichern\n",
    "    with open(output_file_path, \"w\") as output_file:\n",
    "        json.dump(adjusted_data, output_file, indent=4)"
   ]
  },
  {
   "attachments": {},
   "cell_type": "markdown",
   "metadata": {},
   "source": [
    "## Hinzufügen von Exogenen Variablen\n",
    "Die hystorischen Datensätze ergänzen"
   ]
  },
  {
   "cell_type": "code",
   "execution_count": null,
   "metadata": {},
   "outputs": [],
   "source": []
  },
  {
   "attachments": {},
   "cell_type": "markdown",
   "metadata": {},
   "source": [
    "# 1) Standortbasierte Mietpreisschätzung unter Berücksichtigung von Referenzmieten"
   ]
  },
  {
   "attachments": {},
   "cell_type": "markdown",
   "metadata": {},
   "source": [
    "### KI Modell mit Refferezpunkte"
   ]
  },
  {
   "cell_type": "code",
   "execution_count": 9,
   "metadata": {},
   "outputs": [
    {
     "name": "stderr",
     "output_type": "stream",
     "text": [
      "100%|██████████| 795/795 [00:23<00:00, 34.54it/s]\n"
     ]
    },
    {
     "name": "stdout",
     "output_type": "stream",
     "text": [
      "5/5 [==============================] - 0s 4ms/step\n",
      "RMSE per sqm: 2.235600\n"
     ]
    },
    {
     "data": {
      "image/png": "[encoded data removed]",
      "text/plain": [
       "<Figure size 640x480 with 1 Axes>"
      ]
     },
     "metadata": {},
     "output_type": "display_data"
    }
   ],
   "source": [
    "import pandas as pd\n",
    "import geopandas as gpd\n",
    "from shapely.geometry import Point\n",
    "from sklearn.model_selection import train_test_split\n",
    "from sklearn.metrics import mean_squared_error\n",
    "from sklearn.preprocessing import StandardScaler\n",
    "from tensorflow.keras.models import Sequential\n",
    "from tensorflow.keras.layers import Dense\n",
    "from tensorflow.keras.metrics import RootMeanSquaredError\n",
    "import joblib\n",
    "import json\n",
    "import numpy as np\n",
    "import matplotlib.pyplot as plt\n",
    "from geopy.distance import geodesic\n",
    "import warnings\n",
    "warnings.filterwarnings('ignore', 'GeoSeries.notna', UserWarning)\n",
    "warnings.filterwarnings('ignore', 'sindex.nearest', FutureWarning)\n",
    "from sklearn.neighbors import KDTree\n",
    "from tqdm import tqdm\n",
    "\n",
    "# Load the data\n",
    "with open(\"smallDataTest.json\", \"r\") as file: #trainingData_located20XX.json  #smallDataTest.json -> Hier muss auf den Datensatz der gewünschren ZEit zurückgegriffen werden\n",
    "    data = json.load(file)\n",
    "\n",
    "filtered_data = []\n",
    "for entry in data:\n",
    "    if 'livingSpace' in entry and 'rent' in entry:\n",
    "        filtered_data.append(entry)\n",
    "\n",
    "df = pd.DataFrame(filtered_data)\n",
    "df['quadratmeterpreis'] = df['rent'] / df['livingSpace']\n",
    "\n",
    "gdf = gpd.GeoDataFrame(df, geometry=gpd.points_from_xy(df.Longitude, df.Latitude))\n",
    "gdf_sindex = gdf.sindex\n",
    "\n",
    "bool_columns = [\"hasBasement\", \"hasBalcony\", \"hasGarden\", \"hasElevator\"]\n",
    "for column in bool_columns:\n",
    "    df[column] = df[column].map({True: 1, False: 0, np.nan: 0.5})\n",
    "\n",
    "df[\"houseType\"] = df[\"houseType\"].astype(\"category\").cat.codes\n",
    "df[\"quadratmeterpreis\"] = df[\"rent\"] / df[\"livingSpace\"]\n",
    "df = df.dropna(subset=['rent', 'livingSpace'])\n",
    "\n",
    "# Erstellen Sie ein Array mit den Punkt-Koordinaten\n",
    "coords = gdf[['Longitude', 'Latitude']].values\n",
    "\n",
    "# Erstellen Sie eine KDTree\n",
    "tree = KDTree(coords)\n",
    "\n",
    "def find_nearby(row, gdf, tree, radius=0.01):\n",
    "    # Die query-Methode der KDTree gibt einen Abstand und den Index des nächsten Punkts zurück\n",
    "    indices = tree.query_radius(row[['Longitude', 'Latitude']].values.reshape(1, -1), r=radius)\n",
    "    indices = indices[0]  # Die Ausgabe ist ein Array von Arrays, wir brauchen nur das erste Array\n",
    "    potential_matches = gdf.iloc[indices]\n",
    "    precise_matches = potential_matches[potential_matches.distance(row['geometry']) <= radius]\n",
    "    if len(precise_matches) < 5:\n",
    "        _, indices = tree.query(row[['Longitude', 'Latitude']].values.reshape(1, -1), k=5)\n",
    "        precise_matches = gdf.iloc[indices[0]]\n",
    "    desc = precise_matches['quadratmeterpreis'].describe().drop(['25%', '50%', '75%'])\n",
    "    desc.index = ['count_nearby', 'mean_rent_per_sqm_nearby', 'std_rent_per_sqm_nearby', \n",
    "              'min_rent_per_sqm_nearby', 'max_rent_per_sqm_nearby']\n",
    "    return desc\n",
    "\n",
    "\n",
    "original_index = df.index\n",
    "df = df.reset_index(drop=True)\n",
    "gdf = gdf.reset_index(drop=True)\n",
    "df = pd.merge(df, gdf[['geometry']], left_index=True, right_index=True)\n",
    "\n",
    "results = []\n",
    "for _, row in tqdm(df.iterrows(), total=df.shape[0]):\n",
    "    results.append(find_nearby(row, gdf, tree))\n",
    "\n",
    "#New DAtaframe\n",
    "df_nearby_features = pd.DataFrame(results, columns=['count_nearby', 'mean_rent_per_sqm_nearby', 'std_rent_per_sqm_nearby', 'min_rent_per_sqm_nearby', 'max_rent_per_sqm_nearby'])\n",
    "df_nearby_features.index = original_index\n",
    "df = pd.concat([df, df_nearby_features], axis=1)\n",
    "df = df.drop(columns=['geometry'])\n",
    "\n",
    "#aus X-entfernen\n",
    "X = df.drop(columns=[\"rent\", \"_class\", \"address\", \"Latitude\", \"Longitude\", \"stadt\", \"stadtteil\", \"plz\", \"strasse\", \"bundesland\", \"quadratmeterpreis\"])\n",
    "y = df[\"quadratmeterpreis\"]\n",
    "# Füllen Sie NaN-Werte in X mit dem Durchschnittswert der jeweiligen Spalte aus\n",
    "X = X.fillna(X.mean())\n",
    "X.replace([np.inf, -np.inf], np.nan, inplace=True)\n",
    "X.fillna(X.mean(), inplace=True)\n",
    "y = y.loc[X.index]\n",
    "\n",
    "\n",
    "scaler = StandardScaler()\n",
    "X = scaler.fit_transform(X)\n",
    "# Zum Speichern\n",
    "joblib.dump(scaler, 'scaler1.pkl')\n",
    "\n",
    "# Preprocessing und Aufteilung in Trainings- und Testdaten\n",
    "X_train, X_test, y_train, y_test = train_test_split(X, y, test_size=0.2, random_state=42)\n",
    "\n",
    "# Modelldefinition\n",
    "model = Sequential()\n",
    "model.add(Dense(32, input_dim=X_train.shape[1], activation='relu'))\n",
    "model.add(Dense(16, activation='relu'))\n",
    "model.add(Dense(1, activation='linear'))\n",
    "\n",
    "# Modellkompilierung\n",
    "model.compile(loss='mean_squared_error', optimizer='adam', metrics=[RootMeanSquaredError()])\n",
    "\n",
    "# Modellanpassung\n",
    "history = model.fit(X_train, y_train, epochs=50, batch_size=32, verbose=0)\n",
    "\n",
    "# Vorhersagen für Testdaten\n",
    "y_pred = model.predict(X_test)\n",
    "rmse = np.sqrt(mean_squared_error(y_test, y_pred))\n",
    "print(\"RMSE per sqm: %f\" % (rmse))\n",
    "\n",
    "# Modell speichern\n",
    "model.save('rent_per_sqm_model_nn.h5')\n",
    "\n",
    "# Anzeige der Verlaufskurve des Modellverlusts während des Trainings\n",
    "plt.plot(history.history['loss'])\n",
    "plt.title('Model Loss Progression During Training/Validation')\n",
    "plt.ylabel('Training and Validation Losses')\n",
    "plt.xlabel('Epoch Number')\n",
    "plt.show()"
   ]
  },
  {
   "attachments": {},
   "cell_type": "markdown",
   "metadata": {},
   "source": [
    "# 1) Mietpreisprognosen der Refferenzmieten"
   ]
  },
  {
   "cell_type": "markdown",
   "metadata": {},
   "source": [
    "## Gwählte Atribute"
   ]
  },
  {
   "cell_type": "code",
   "execution_count": null,
   "metadata": {},
   "outputs": [],
   "source": []
  },
  {
   "attachments": {},
   "cell_type": "markdown",
   "metadata": {},
   "source": [
    "## Random Forest"
   ]
  },
  {
   "cell_type": "code",
   "execution_count": null,
   "metadata": {},
   "outputs": [],
   "source": []
  },
  {
   "attachments": {},
   "cell_type": "markdown",
   "metadata": {},
   "source": [
    "## Lineare Regression -Arne"
   ]
  },
  {
   "cell_type": "code",
   "execution_count": null,
   "metadata": {},
   "outputs": [],
   "source": []
  },
  {
   "attachments": {},
   "cell_type": "markdown",
   "metadata": {},
   "source": [
    "## Neuronales Netz -Alexander"
   ]
  },
  {
   "cell_type": "code",
   "execution_count": null,
   "metadata": {},
   "outputs": [],
   "source": []
  },
  {
   "cell_type": "markdown",
   "metadata": {},
   "source": [
    "## XG Boost -Joel"
   ]
  },
  {
   "cell_type": "code",
   "execution_count": null,
   "metadata": {},
   "outputs": [],
   "source": []
  },
  {
   "attachments": {},
   "cell_type": "markdown",
   "metadata": {},
   "source": [
    "# Ein/Ausgabemaske"
   ]
  },
  {
   "attachments": {},
   "cell_type": "markdown",
   "metadata": {},
   "source": [
    "#### Welche Atributte aus unseren Daten weisen neben der Lage die höchste Korrelation zur Miete auf, und müssen somit später als Pflichtfeld aufgerufen werden"
   ]
  },
  {
   "cell_type": "code",
   "execution_count": 10,
   "metadata": {},
   "outputs": [
    {
     "data": {
      "image/png": "[encoded data removed]",
      "text/plain": [
       "<Figure size 1200x600 with 2 Axes>"
      ]
     },
     "metadata": {},
     "output_type": "display_data"
    }
   ],
   "source": [
    "import pandas as pd\n",
    "import seaborn as sns\n",
    "import matplotlib.pyplot as plt\n",
    "\n",
    "# Daten aus JSON-Datei lesen\n",
    "data = pd.read_json('smallDataTest.json')\n",
    "\n",
    "# Numerische Attribute auswählen (ohne Textattribute wie \"houseType\" oder \"address\")\n",
    "numeric_cols = [\"roomCount\", \"propertyAge\", \"livingSpace\", \"hasBasement\", \"hasBalcony\", \"parkingLotCount\", \"hasGarden\", \"hasElevator\", \"rent\"]\n",
    "\n",
    "# Korrelationsmatrix berechnen\n",
    "corr_matrix = data[numeric_cols].corr()\n",
    "\n",
    "# Heatmap erstellen\n",
    "plt.figure(figsize=(12, 6))  # Neue Größe der Grafik\n",
    "sns.heatmap(corr_matrix, annot=True, cmap=\"coolwarm\", square=True)\n",
    "plt.title(\"Korrelationsmatrix\")\n",
    "plt.show()\n"
   ]
  },
  {
   "attachments": {},
   "cell_type": "markdown",
   "metadata": {},
   "source": [
    "Nach der Heatingmap zu Urteilen, sollte der Wohnraum mit einem Korrelationskoeffizienten von 0.72XX auf jeden Fall berücksichtigt werden. Da das Modell im Nachhinein noch angepasst wurde, erfolgte im Modell direkt die preisschätzung je qadratmeter."
   ]
  },
  {
   "cell_type": "code",
   "execution_count": null,
   "metadata": {},
   "outputs": [
    {
     "data": {
      "application/vnd.jupyter.widget-view+json": {
       "model_id": "a9327bbed7b84f5b866df39b5dfc6334",
       "version_major": 2,
       "version_minor": 0
      },
      "text/plain": [
       "Text(value='', description='Address')"
      ]
     },
     "metadata": {},
     "output_type": "display_data"
    },
    {
     "data": {
      "application/vnd.jupyter.widget-view+json": {
       "model_id": "78095035feea48688929bcacf5dafa98",
       "version_major": 2,
       "version_minor": 0
      },
      "text/plain": [
       "FloatText(value=0.0, description='Living Space (sqm)')"
      ]
     },
     "metadata": {},
     "output_type": "display_data"
    },
    {
     "data": {
      "application/vnd.jupyter.widget-view+json": {
       "model_id": "dd7d00c0634a41ce8768feaaa5f02ebc",
       "version_major": 2,
       "version_minor": 0
      },
      "text/plain": [
       "Button(description='Predict', style=ButtonStyle())"
      ]
     },
     "metadata": {},
     "output_type": "display_data"
    },
    {
     "data": {
      "application/vnd.jupyter.widget-view+json": {
       "model_id": "a9327bbed7b84f5b866df39b5dfc6334",
       "version_major": 2,
       "version_minor": 0
      },
      "text/plain": [
       "Text(value='', description='Address')"
      ]
     },
     "metadata": {},
     "output_type": "display_data"
    },
    {
     "data": {
      "application/vnd.jupyter.widget-view+json": {
       "model_id": "78095035feea48688929bcacf5dafa98",
       "version_major": 2,
       "version_minor": 0
      },
      "text/plain": [
       "FloatText(value=0.0, description='Living Space (sqm)')"
      ]
     },
     "metadata": {},
     "output_type": "display_data"
    },
    {
     "data": {
      "application/vnd.jupyter.widget-view+json": {
       "model_id": "dd7d00c0634a41ce8768feaaa5f02ebc",
       "version_major": 2,
       "version_minor": 0
      },
      "text/plain": [
       "Button(description='Predict', style=ButtonStyle())"
      ]
     },
     "metadata": {},
     "output_type": "display_data"
    },
    {
     "name": "stdout",
     "output_type": "stream",
     "text": [
      "1/1 [==============================] - 0s 117ms/step\n"
     ]
    },
    {
     "data": {
      "application/vnd.jupyter.widget-view+json": {
       "model_id": "2250da77289f46489e290a597da0952e",
       "version_major": 2,
       "version_minor": 0
      },
      "text/plain": [
       "Label(value='Prediction: 407.1€')"
      ]
     },
     "metadata": {},
     "output_type": "display_data"
    },
    {
     "data": {
      "text/html": [
       "<div style=\"width:100%;\"><div style=\"position:relative;width:100%;height:0;padding-bottom:60%;\"><span style=\"color:#565656\">Make this Notebook Trusted to load map: File -> Trust Notebook</span><iframe srcdoc=\"&lt;!DOCTYPE html&gt;\n",
       "&lt;html&gt;\n",
       "&lt;head&gt;\n",
       "    \n",
       "    &lt;meta http-equiv=&quot;content-type&quot; content=&quot;text/html; charset=UTF-8&quot; /&gt;\n",
       "    \n",
       "        &lt;script&gt;\n",
       "            L_NO_TOUCH = false;\n",
       "            L_DISABLE_3D = false;\n",
       "        &lt;/script&gt;\n",
       "    \n",
       "    &lt;style&gt;html, body {width: 100%;height: 100%;margin: 0;padding: 0;}&lt;/style&gt;\n",
       "    &lt;style&gt;#map {position:absolute;top:0;bottom:0;right:0;left:0;}&lt;/style&gt;\n",
       "    &lt;script src=&quot;https://cdn.jsdelivr.net/npm/leaflet@1.9.3/dist/leaflet.js&quot;&gt;&lt;/script&gt;\n",
       "    &lt;script src=&quot;https://code.jquery.com/jquery-1.12.4.min.js&quot;&gt;&lt;/script&gt;\n",
       "    &lt;script src=&quot;https://cdn.jsdelivr.net/npm/bootstrap@5.2.2/dist/js/bootstrap.bundle.min.js&quot;&gt;&lt;/script&gt;\n",
       "    &lt;script src=&quot;https://cdnjs.cloudflare.com/ajax/libs/Leaflet.awesome-markers/2.0.2/leaflet.awesome-markers.js&quot;&gt;&lt;/script&gt;\n",
       "    &lt;link rel=&quot;stylesheet&quot; href=&quot;https://cdn.jsdelivr.net/npm/leaflet@1.9.3/dist/leaflet.css&quot;/&gt;\n",
       "    &lt;link rel=&quot;stylesheet&quot; href=&quot;https://cdn.jsdelivr.net/npm/bootstrap@5.2.2/dist/css/bootstrap.min.css&quot;/&gt;\n",
       "    &lt;link rel=&quot;stylesheet&quot; href=&quot;https://netdna.bootstrapcdn.com/bootstrap/3.0.0/css/bootstrap.min.css&quot;/&gt;\n",
       "    &lt;link rel=&quot;stylesheet&quot; href=&quot;https://cdn.jsdelivr.net/npm/@fortawesome/fontawesome-free@6.2.0/css/all.min.css&quot;/&gt;\n",
       "    &lt;link rel=&quot;stylesheet&quot; href=&quot;https://cdnjs.cloudflare.com/ajax/libs/Leaflet.awesome-markers/2.0.2/leaflet.awesome-markers.css&quot;/&gt;\n",
       "    &lt;link rel=&quot;stylesheet&quot; href=&quot;https://cdn.jsdelivr.net/gh/python-visualization/folium/folium/templates/leaflet.awesome.rotate.min.css&quot;/&gt;\n",
       "    \n",
       "            &lt;meta name=&quot;viewport&quot; content=&quot;width=device-width,\n",
       "                initial-scale=1.0, maximum-scale=1.0, user-scalable=no&quot; /&gt;\n",
       "            &lt;style&gt;\n",
       "                #map_8c58049a5243fdcf6ea35a1ce8d29760 {\n",
       "                    position: relative;\n",
       "                    width: 100.0%;\n",
       "                    height: 100.0%;\n",
       "                    left: 0.0%;\n",
       "                    top: 0.0%;\n",
       "                }\n",
       "                .leaflet-container { font-size: 1rem; }\n",
       "            &lt;/style&gt;\n",
       "        \n",
       "&lt;/head&gt;\n",
       "&lt;body&gt;\n",
       "    \n",
       "    \n",
       "            &lt;div class=&quot;folium-map&quot; id=&quot;map_8c58049a5243fdcf6ea35a1ce8d29760&quot; &gt;&lt;/div&gt;\n",
       "        \n",
       "&lt;/body&gt;\n",
       "&lt;script&gt;\n",
       "    \n",
       "    \n",
       "            var map_8c58049a5243fdcf6ea35a1ce8d29760 = L.map(\n",
       "                &quot;map_8c58049a5243fdcf6ea35a1ce8d29760&quot;,\n",
       "                {\n",
       "                    center: [53.5646902, 9.9591985],\n",
       "                    crs: L.CRS.EPSG3857,\n",
       "                    zoom: 14,\n",
       "                    zoomControl: true,\n",
       "                    preferCanvas: false,\n",
       "                }\n",
       "            );\n",
       "\n",
       "            \n",
       "\n",
       "        \n",
       "    \n",
       "            var tile_layer_84f277e407de4e53b0f89cf495dd7ab0 = L.tileLayer(\n",
       "                &quot;https://{s}.tile.openstreetmap.org/{z}/{x}/{y}.png&quot;,\n",
       "                {&quot;attribution&quot;: &quot;Data by \\u0026copy; \\u003ca target=\\&quot;_blank\\&quot; href=\\&quot;http://openstreetmap.org\\&quot;\\u003eOpenStreetMap\\u003c/a\\u003e, under \\u003ca target=\\&quot;_blank\\&quot; href=\\&quot;http://www.openstreetmap.org/copyright\\&quot;\\u003eODbL\\u003c/a\\u003e.&quot;, &quot;detectRetina&quot;: false, &quot;maxNativeZoom&quot;: 18, &quot;maxZoom&quot;: 18, &quot;minZoom&quot;: 0, &quot;noWrap&quot;: false, &quot;opacity&quot;: 1, &quot;subdomains&quot;: &quot;abc&quot;, &quot;tms&quot;: false}\n",
       "            ).addTo(map_8c58049a5243fdcf6ea35a1ce8d29760);\n",
       "        \n",
       "    \n",
       "            var marker_d53372e671eefdc942ad1104f4f58c2e = L.marker(\n",
       "                [53.5646902, 9.9591985],\n",
       "                {}\n",
       "            ).addTo(map_8c58049a5243fdcf6ea35a1ce8d29760);\n",
       "        \n",
       "    \n",
       "            var poly_line_6dda9d0506ab300b816d5f41da49af20 = L.polyline(\n",
       "                [[53.5646902, 9.9591985], [47.6945944, 13.0463923]],\n",
       "                {&quot;bubblingMouseEvents&quot;: true, &quot;color&quot;: &quot;blue&quot;, &quot;dashArray&quot;: null, &quot;dashOffset&quot;: null, &quot;fill&quot;: false, &quot;fillColor&quot;: &quot;blue&quot;, &quot;fillOpacity&quot;: 0.2, &quot;fillRule&quot;: &quot;evenodd&quot;, &quot;lineCap&quot;: &quot;round&quot;, &quot;lineJoin&quot;: &quot;round&quot;, &quot;noClip&quot;: false, &quot;opacity&quot;: 1, &quot;smoothFactor&quot;: 1.0, &quot;stroke&quot;: true, &quot;weight&quot;: 2.5}\n",
       "            ).addTo(map_8c58049a5243fdcf6ea35a1ce8d29760);\n",
       "        \n",
       "    \n",
       "            var poly_line_acae49ec6f37b8448a3391b9147612bf = L.polyline(\n",
       "                [[53.5646902, 9.9591985], [47.6972166, 13.0453749]],\n",
       "                {&quot;bubblingMouseEvents&quot;: true, &quot;color&quot;: &quot;blue&quot;, &quot;dashArray&quot;: null, &quot;dashOffset&quot;: null, &quot;fill&quot;: false, &quot;fillColor&quot;: &quot;blue&quot;, &quot;fillOpacity&quot;: 0.2, &quot;fillRule&quot;: &quot;evenodd&quot;, &quot;lineCap&quot;: &quot;round&quot;, &quot;lineJoin&quot;: &quot;round&quot;, &quot;noClip&quot;: false, &quot;opacity&quot;: 1, &quot;smoothFactor&quot;: 1.0, &quot;stroke&quot;: true, &quot;weight&quot;: 2.5}\n",
       "            ).addTo(map_8c58049a5243fdcf6ea35a1ce8d29760);\n",
       "        \n",
       "    \n",
       "            var poly_line_852e3c8f8a5bd7abdde6f2940e5f97fa = L.polyline(\n",
       "                [[53.5646902, 9.9591985], [47.6029557, 12.9227016]],\n",
       "                {&quot;bubblingMouseEvents&quot;: true, &quot;color&quot;: &quot;blue&quot;, &quot;dashArray&quot;: null, &quot;dashOffset&quot;: null, &quot;fill&quot;: false, &quot;fillColor&quot;: &quot;blue&quot;, &quot;fillOpacity&quot;: 0.2, &quot;fillRule&quot;: &quot;evenodd&quot;, &quot;lineCap&quot;: &quot;round&quot;, &quot;lineJoin&quot;: &quot;round&quot;, &quot;noClip&quot;: false, &quot;opacity&quot;: 1, &quot;smoothFactor&quot;: 1.0, &quot;stroke&quot;: true, &quot;weight&quot;: 2.5}\n",
       "            ).addTo(map_8c58049a5243fdcf6ea35a1ce8d29760);\n",
       "        \n",
       "    \n",
       "            var poly_line_fad825e50a215802253bdc7e9a37cce4 = L.polyline(\n",
       "                [[53.5646902, 9.9591985], [47.6530812, 12.9626806]],\n",
       "                {&quot;bubblingMouseEvents&quot;: true, &quot;color&quot;: &quot;blue&quot;, &quot;dashArray&quot;: null, &quot;dashOffset&quot;: null, &quot;fill&quot;: false, &quot;fillColor&quot;: &quot;blue&quot;, &quot;fillOpacity&quot;: 0.2, &quot;fillRule&quot;: &quot;evenodd&quot;, &quot;lineCap&quot;: &quot;round&quot;, &quot;lineJoin&quot;: &quot;round&quot;, &quot;noClip&quot;: false, &quot;opacity&quot;: 1, &quot;smoothFactor&quot;: 1.0, &quot;stroke&quot;: true, &quot;weight&quot;: 2.5}\n",
       "            ).addTo(map_8c58049a5243fdcf6ea35a1ce8d29760);\n",
       "        \n",
       "    \n",
       "            var poly_line_351643b759d99788619566df1e0eb51c = L.polyline(\n",
       "                [[53.5646902, 9.9591985], [48.5179078, 13.715179299999999]],\n",
       "                {&quot;bubblingMouseEvents&quot;: true, &quot;color&quot;: &quot;blue&quot;, &quot;dashArray&quot;: null, &quot;dashOffset&quot;: null, &quot;fill&quot;: false, &quot;fillColor&quot;: &quot;blue&quot;, &quot;fillOpacity&quot;: 0.2, &quot;fillRule&quot;: &quot;evenodd&quot;, &quot;lineCap&quot;: &quot;round&quot;, &quot;lineJoin&quot;: &quot;round&quot;, &quot;noClip&quot;: false, &quot;opacity&quot;: 1, &quot;smoothFactor&quot;: 1.0, &quot;stroke&quot;: true, &quot;weight&quot;: 2.5}\n",
       "            ).addTo(map_8c58049a5243fdcf6ea35a1ce8d29760);\n",
       "        \n",
       "    \n",
       "            var poly_line_67b0e55841f92baa34b7b73f2c347655 = L.polyline(\n",
       "                [[53.5646902, 9.9591985], [48.5179078, 13.715179299999999]],\n",
       "                {&quot;bubblingMouseEvents&quot;: true, &quot;color&quot;: &quot;blue&quot;, &quot;dashArray&quot;: null, &quot;dashOffset&quot;: null, &quot;fill&quot;: false, &quot;fillColor&quot;: &quot;blue&quot;, &quot;fillOpacity&quot;: 0.2, &quot;fillRule&quot;: &quot;evenodd&quot;, &quot;lineCap&quot;: &quot;round&quot;, &quot;lineJoin&quot;: &quot;round&quot;, &quot;noClip&quot;: false, &quot;opacity&quot;: 1, &quot;smoothFactor&quot;: 1.0, &quot;stroke&quot;: true, &quot;weight&quot;: 2.5}\n",
       "            ).addTo(map_8c58049a5243fdcf6ea35a1ce8d29760);\n",
       "        \n",
       "&lt;/script&gt;\n",
       "&lt;/html&gt;\" style=\"position:absolute;width:100%;height:100%;left:0;top:0;border:none !important;\" allowfullscreen webkitallowfullscreen mozallowfullscreen></iframe></div></div>"
      ],
      "text/plain": [
       "<folium.folium.Map at 0x2d98a164fa0>"
      ]
     },
     "metadata": {},
     "output_type": "display_data"
    },
    {
     "data": {
      "text/html": [
       "<div>\n",
       "<style scoped>\n",
       "    .dataframe tbody tr th:only-of-type {\n",
       "        vertical-align: middle;\n",
       "    }\n",
       "\n",
       "    .dataframe tbody tr th {\n",
       "        vertical-align: top;\n",
       "    }\n",
       "\n",
       "    .dataframe thead th {\n",
       "        text-align: right;\n",
       "    }\n",
       "</style>\n",
       "<table border=\"1\" class=\"dataframe\">\n",
       "  <thead>\n",
       "    <tr style=\"text-align: right;\">\n",
       "      <th></th>\n",
       "      <th>0</th>\n",
       "      <th>1</th>\n",
       "      <th>2</th>\n",
       "      <th>3</th>\n",
       "      <th>4</th>\n",
       "      <th>5</th>\n",
       "      <th>6</th>\n",
       "      <th>7</th>\n",
       "      <th>8</th>\n",
       "      <th>9</th>\n",
       "      <th>10</th>\n",
       "      <th>11</th>\n",
       "      <th>12</th>\n",
       "      <th>13</th>\n",
       "    </tr>\n",
       "  </thead>\n",
       "  <tbody>\n",
       "    <tr>\n",
       "      <th>0</th>\n",
       "      <td>-0.641005</td>\n",
       "      <td>-1.216714</td>\n",
       "      <td>-0.385411</td>\n",
       "      <td>-1.438575</td>\n",
       "      <td>0.729241</td>\n",
       "      <td>-0.244665</td>\n",
       "      <td>-0.5</td>\n",
       "      <td>1.652996</td>\n",
       "      <td>-0.615741</td>\n",
       "      <td>5.065788</td>\n",
       "      <td>0.026533</td>\n",
       "      <td>0.179972</td>\n",
       "      <td>0.040437</td>\n",
       "      <td>0.248119</td>\n",
       "    </tr>\n",
       "  </tbody>\n",
       "</table>\n",
       "</div>"
      ],
      "text/plain": [
       "         0         1         2         3         4         5    6         7   \\\n",
       "0 -0.641005 -1.216714 -0.385411 -1.438575  0.729241 -0.244665 -0.5  1.652996   \n",
       "\n",
       "         8         9         10        11        12        13  \n",
       "0 -0.615741  5.065788  0.026533  0.179972  0.040437  0.248119  "
      ]
     },
     "metadata": {},
     "output_type": "display_data"
    }
   ],
   "source": [
    "from tensorflow.keras.models import load_model\n",
    "import pandas as pd\n",
    "import numpy as np\n",
    "from geopy.distance import geodesic\n",
    "from geopy.geocoders import Nominatim\n",
    "from sklearn.neighbors import BallTree\n",
    "import ipywidgets as widgets\n",
    "from IPython.display import display\n",
    "import folium\n",
    "import geopandas as gpd\n",
    "from shapely.geometry import Point\n",
    "\n",
    "data = pd.read_json('trainingData_located20XX.json')  #smallDataTest.json\n",
    "data['quadratmeterpreis'] = data['rent'] / data['livingSpace']  # hinzufügen\n",
    "gdf = gpd.GeoDataFrame(data, geometry=gpd.points_from_xy(data.Longitude, data.Latitude))\n",
    "gdf_sindex = gdf.sindex\n",
    "\n",
    "\n",
    "# Load your model here\n",
    "model = load_model('rent_per_sqm_model_nn.h5')\n",
    "\n",
    "def geocode_address(address):\n",
    "    # Implement geocoding here, for example using Nominatim\n",
    "    geolocator = Nominatim(user_agent=\"geoapiExercises\")\n",
    "    location = geolocator.geocode(address)\n",
    "    return (location.latitude, location.longitude) if location else None\n",
    "\n",
    "def find_nearby(point, gdf, num_points=5):\n",
    "    # Convert input point to Shapely point object\n",
    "    point = Point(point)\n",
    "    \n",
    "    # Find indices of nearest points\n",
    "    indices = list(gdf_sindex.nearest(point.bounds, num_points))\n",
    "\n",
    "    # Get nearest points\n",
    "    nearest_points = gdf.iloc[indices]\n",
    "    \n",
    "    desc = nearest_points['quadratmeterpreis'].describe().drop(['25%', '50%', '75%'])\n",
    "    desc.index = ['count_nearby', 'mean_rent_per_sqm_nearby', 'std_rent_per_sqm_nearby', \n",
    "              'min_rent_per_sqm_nearby', 'max_rent_per_sqm_nearby']\n",
    "\n",
    "    # Return the coordinates of the reference points as well\n",
    "    return desc, nearest_points[['Latitude', 'Longitude']]\n",
    "\n",
    "\n",
    "\n",
    "def predict(address, living_space):\n",
    "    # Calculate the coordinates of the address\n",
    "    coordinates = geocode_address(address)\n",
    "    \n",
    "    if coordinates:\n",
    "        nearby_features, reference_points = find_nearby(coordinates, gdf)\n",
    "\n",
    "        input_data = {\n",
    "            'roomCount': 2,\n",
    "            'propertyAge': 2,\n",
    "            'livingSpace': living_space,\n",
    "            'hasBasement': False,\n",
    "            'hasBalcony': True,\n",
    "            'parkingLotCount': 0,\n",
    "            'hasGarden': False,\n",
    "            'hasElevator': True,\n",
    "            'houseType': 0, #'apartment' -> Fallunterscheidung noch behandeln\n",
    "            # Add other necessary features here\n",
    "            # 'feature_name': value,\n",
    "        }\n",
    "\n",
    "        prediction_data = input_data.copy()\n",
    "\n",
    "        # Update the prediction data with the nearby features\n",
    "        prediction_data.update(nearby_features.to_dict())\n",
    "        #print(prediction_data)\n",
    "\n",
    "        # Preprocess the prediction data the same way as you did with your training data\n",
    "        prediction_data = pd.DataFrame([prediction_data])\n",
    "\n",
    "        # Zum Laden\n",
    "        scaler = joblib.load('scaler1.pkl')\n",
    "        prediction_data = scaler.transform(prediction_data)  # Use the same scaler you used for your training data\n",
    "\n",
    "        prediction = model.predict(prediction_data)\n",
    "\n",
    "        return prediction[0][0], prediction_data, coordinates, reference_points\n",
    "    \n",
    "    return None, None, None, None\n",
    "\n",
    "def predict_button_clicked(b):\n",
    "    address = address_widget.value\n",
    "    living_space = living_space_widget.value\n",
    "\n",
    "    prediction, prediction_data, coordinates, reference_points = predict(address, living_space)\n",
    "    \n",
    "    if prediction:\n",
    "        display(widgets.Label(value=f'Prediction: {round(prediction * living_space, 1)}€'))\n",
    "        \n",
    "        if coordinates is not None:\n",
    "            # Create the folium map\n",
    "            m = folium.Map(location=[coordinates[0], coordinates[1]], zoom_start=14)\n",
    "\n",
    "            # Add marker for the predicted location\n",
    "            folium.Marker([coordinates[0], coordinates[1]]).add_to(m)\n",
    "\n",
    "            # Add lines to the reference points\n",
    "            for _, row in reference_points.iterrows():\n",
    "                folium.PolyLine([(coordinates[0], coordinates[1]), (row['Latitude'], row['Longitude'])], color=\"blue\", weight=2.5, opacity=1).add_to(m)\n",
    "            \n",
    "            # Display the map\n",
    "            display(m)\n",
    "        \n",
    "        display(pd.DataFrame(prediction_data))\n",
    "    else:\n",
    "        display(widgets.Label(value='Cannot geocode address.'))\n",
    "\n",
    "# Define the input widgets\n",
    "address_widget = widgets.Text(description='Address')\n",
    "living_space_widget = widgets.FloatText(description='Living Space (sqm)')\n",
    "\n",
    "# Create the predict button\n",
    "predict_button = widgets.Button(description='Predict')\n",
    "predict_button.on_click(predict_button_clicked)\n",
    "\n",
    "# Display the input widgets and predict button\n",
    "display(address_widget, living_space_widget, predict_button)\n",
    "\n",
    "# Display the input widgets and predict button\n",
    "display(address_widget, living_space_widget, predict_button)\n",
    "\n"
   ]
  },
  {
   "cell_type": "code",
   "execution_count": null,
   "metadata": {},
   "outputs": [],
   "source": [
    "Schulterblatt 121, 20357 Hamburg"
   ]
  },
  {
   "cell_type": "code",
   "execution_count": null,
   "metadata": {},
   "outputs": [],
   "source": []
  },
  {
   "cell_type": "code",
   "execution_count": null,
   "metadata": {},
   "outputs": [],
   "source": []
  },
  {
   "cell_type": "code",
   "execution_count": null,
   "metadata": {},
   "outputs": [],
   "source": []
  },
  {
   "cell_type": "code",
   "execution_count": null,
   "metadata": {},
   "outputs": [],
   "source": []
  }
 ],
 "metadata": {
  "kernelspec": {
   "display_name": "Python 3",
   "language": "python",
   "name": "python3"
  },
  "language_info": {
   "codemirror_mode": {
    "name": "ipython",
    "version": 3
   },
   "file_extension": ".py",
   "mimetype": "text/x-python",
   "name": "python",
   "nbconvert_exporter": "python",
   "pygments_lexer": "ipython3",
   "version": "3.9.6"
  },
  "orig_nbformat": 4
 },
 "nbformat": 4,
 "nbformat_minor": 2
}
